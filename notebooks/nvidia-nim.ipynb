{
 "cells": [
  {
   "cell_type": "markdown",
   "id": "aaa73932-fce1-4594-8c39-5cdc6b0216e0",
   "metadata": {},
   "source": [
    "### NVIDIA NIM for Large Language Models ###"
   ]
  },
  {
   "cell_type": "code",
   "execution_count": null,
   "id": "5b528c72-a1e5-4e57-b091-84cddd46d38b",
   "metadata": {},
   "outputs": [],
   "source": []
  }
 ],
 "metadata": {
  "kernelspec": {
   "display_name": "Python 3 (ipykernel)",
   "language": "python",
   "name": "python3"
  },
  "language_info": {
   "codemirror_mode": {
    "name": "ipython",
    "version": 3
   },
   "file_extension": ".py",
   "mimetype": "text/x-python",
   "name": "python",
   "nbconvert_exporter": "python",
   "pygments_lexer": "ipython3",
   "version": "3.12.10"
  }
 },
 "nbformat": 4,
 "nbformat_minor": 5
}
